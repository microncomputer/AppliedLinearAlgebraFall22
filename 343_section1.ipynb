{
 "nbformat": 4,
 "nbformat_minor": 0,
 "metadata": {
  "colab": {
   "provenance": [],
   "collapsed_sections": [],
   "toc_visible": true
  },
  "kernelspec": {
   "name": "python3",
   "display_name": "Python 3"
  },
  "language_info": {
   "name": "python"
  }
 },
 "cells": [
  {
   "cell_type": "markdown",
   "source": [
    "# Section 0: Lab structure and expectations\n",
    "\n",
    "Welcome to your MTH343 applied linear algebra code notebook! This notebook contains background information, class exercises, and homework assignments for the term. In the exercise and homework sections, there are comments specifying where you are expected to fill in the code to complete the activity.\n",
    "\n",
    "My name is Austen and I'm the TA for the class and author of this notebook.\n",
    "\n",
    "*   email - ajn6@pdx.edu\n",
    "*   office - 460E\n",
    "*   discord - if there is a student made class discord you want me to join then let me know and I will. I will probably notice email first for help privately but it can be helpful to other students if you're willing to ask for help publicly"
   ],
   "metadata": {
    "collapsed": false
   }
  },
  {
   "cell_type": "markdown",
   "source": [
    "\n",
    "## Notebook Structure\n",
    "\n",
    "Much of the notebook is explanation and examples. I encourage you to interact with and change the code I have written in these sections. Throughout the notebook you will be expected to add code and text responses in exercise, homework, and final project sections. Sometimes I have completed part of the code and you just need to fill in the missing part. Any places you need to add code should contain a comment like:\n",
    "\n",
    "```python3\n",
    "# Your code here\n",
    "```\n",
    "\n",
    "__Exercise sections__ should ideally be completed in the provided class working time or in office hours with me (Austen the TA). You are encouraged to work together on these exercises. Grading will be completion based and there is no expectation that your code be any different from other class members. There are exercises for each of the 6 sections of content, some more involved than others.\n",
    "\n",
    "__Homework sections__ can be worked on in class but try to do most of it on your own. Discussing solutions and algorithms or helping each other debug code is encouraged but please try not copy other student's solutions for these sections. There are 4 homework found in sections 1, 2, 3 and 4. There are no due dates for the individual homework but you will be expected to check in your work in the lab book at the time of the midterm. The lab notebooks will be due the Friday of finals week.\n",
    "\n",
    "The __Final Project__ section is an application of multiple topics from throughout the term. This is the largest code you will write and preferably getting help with your code on this project will happen in office hours or through email or discord correspondence with me. It should be implemented as part of this notebook at the end and is due with the rest of the notebook on the Friday of finals week.\n"
   ],
   "metadata": {
    "id": "34d9XyxSVqtB"
   }
  },
  {
   "cell_type": "markdown",
   "source": [
    "\n",
    "## Office hours and notebook progress\n",
    "\n",
    "I have a class starting 30 minutes into this meeting time so our tentative plan is to spend this time in lecture working on this notebook. I will be holding office hours for the hour before class (4:00-4:40 M/W LH 249) where I will be available to answer questions and help with code.\n",
    "\n",
    "I understand there are many of you with limited python experience and this class will be a lot of new information, so utilizing office hours and in-class work time is important. If the scheduled times don't work I am on campus often, feel free to schedule a meeting time or just come see if my office door is open.\n"
   ],
   "metadata": {
    "id": "NPyJGyOjVs5L"
   }
  },
  {
   "cell_type": "markdown",
   "source": [
    "\n",
    "## Combining the theory with practice\n",
    "\n",
    "This notebook is far from complete. It is expected you use notes and algorithms presented in class when completing the activities. The activities generally follow the topics you will be covering in lecture but that doesn't mean you can't work ahead for a challenge."
   ],
   "metadata": {
    "id": "LmFy3nW8Vvu1"
   }
  },
  {
   "cell_type": "markdown",
   "source": [
    "## Expected Background Knowledge\n",
    "\n",
    "I'm assuming that everyone is comfortable with conceptual programming topics like variables, basic types (i.e. int, float, string), control flow (i.e. loops, if-else), and functions. If this isn't the case we might need to step back and review these in the first week of class.\n",
    "\n",
    "It would also be helpful but not critical to have an idea of objects and classes and have some experience using them. We will be heavily interacting with the `numpy.ndarray` and `scipy.sparse.csr_array` classes but we shouldn't need to declare or create any classes of our own.\n",
    "\n",
    "Knowledge of different common Python data-structures like lists, tuples, dicts (maps), and sets will be helpful but a simple examples of their usage is provided when introduced."
   ],
   "metadata": {
    "id": "ItrBPvSVWShC"
   }
  },
  {
   "cell_type": "markdown",
   "source": [
    "## Recipe For Success\n",
    "\n",
    "There are a couple of suggestions I can give for suceeding when learning to code or learning new languages.\n",
    "\n",
    "The first is applicable to most learning, code in shorter intervals more often. Coding or studying for 30 minutes a day is better than coding all day once a week. Notice that this suggestion requires you start the homework before the due date... When you keep the material in your subconscious you will solve problems and have breakthroughs at the strangest times. I've solved some of the most difficult problems I have worked on when waking up in the middle of the night, but I rarely solve something if I have been working on it the last 6 hours.\n",
    "\n",
    "The second is to get help if you are stuck or convinced that your code is correct. 'Rubber duck debugging' is very real and explaining your code to someone else often breaks the functional fixedness that is hiding something in plain sight. It is expected that you will require help to get through this class and notebook. A small part of class time is dedicated to this but email and office hours will also be key tools you are expected to utilize. If the office hour times do not work for your schedule make sure to schedule some!"
   ],
   "metadata": {
    "id": "gXUUSKGUZ5tb"
   }
  },
  {
   "cell_type": "markdown",
   "source": [
    "# Section 1: Introduction to `colab`, `numpy` and `scipy`\n",
    "\n",
    "## Google Colab\n",
    "\n",
    "Google Colab is part of the Goolge Workspace that is pretty much a Google Docs for code. Colab essentially sets up a virtual machine with a development environment with batteries included. The paid version of Colab can give you to more CPU, memory, and even GPU resources if you would like to run computationally demanding codes.\n",
    "\n",
    "Because Colab is a cloud based service, you will have to be connected to the internet to edit and run notebooks.\n",
    "\n",
    "The tool that Colab is built on top of is called Jupyter Notebook. Jupyter is a widely used interactive notebook that provides a modular system for editing, documenting and running code. Jupyter is a commonly used tool in the data science industry, primarily because it is nice for documenting and collaborating.\n",
    "\n",
    "Jupyter has a full markdown integration in the text blocks as well as a powerful `latex` (pronounced 'lah-tek or lay-tek') integration. In this notebook you will see me use `latex` commands such as:\n",
    "\n",
    "$ Ax = b \\quad x,b \\in \\mathbb{R}^n \\quad A \\in \\mathbb{R}^{nxn}$\n",
    "\n",
    "As noted in the next section I am not requiring you use Colab. I know that if you are more familiar and configured with another editor or IDE that you would prefer to use that. Colab greatly simplifies the setup and boilerplate required for getting started in this class, though.\n",
    "\n",
    "### But Jupyter is Trash\n",
    "\n",
    "I know, I also much prefer using other editors to Jupyter notebooks. When coding examples in class or office hours I probably wont use Jupyter or Colab because I'm a pretentious `vim` purest.\n",
    "\n",
    "I'm not requiring you use this notebook at all if you would like to use an editor or IDE of choice.\n",
    "\n",
    "If you want help setting up a development environment I can assist with that, but if you turn in your exercises and homework in `.py` format I will expect a `requirements.txt` so I can quickly create a virtual environment for your work.\n",
    "\n",
    "Create a separate file for each exercise section, homework, and final project each with a main function that runs all the code for the activity and the\n",
    "```python3\n",
    "if __name__ == \"__main__\":\n",
    "  main()\n",
    "```\n",
    "block included at the bottom of each file. The outputs to the terminal and plots produced by the running the main function should describe the findings and results from the activity.\n",
    "\n",
    "Lastly, when turning in all these files please put each `.py` and the `requirements.txt` into a folder and archive it like:\n",
    "\n",
    " `<name>_mth343-activities.tar`.\n",
    "\n",
    "If you decide to use the notebook, submitting the link to the shared notebook is fine.\n",
    "\n",
    "## `numpy` and `scipy`\n",
    "\n",
    "These are the primary software libraries we will be using throughout the term. It isn't expected you have any experience with these libraries and I try to provide examples of how to use the application programming interface (API) before you are expected to use it yourself. The only way to learn how to use an API is to practice regularly.\n",
    "\n",
    "Using `numpy` and `scipy` we can do a lot. Matrix multiplication, transpose, inverse, decomposition, and much more are available.\n",
    "\n",
    "Check out the getting started guides for a lengthy introduction and get used to utilizing the API reference to learn how to use new functions:\n",
    "\n",
    "`numpy`: [getting started guide](https://numpy.org/doc/stable/user/absolute_beginners.html) and [API reference](https://numpy.org/doc/stable/reference/index.html#reference)\n",
    "\n",
    "`scipy`: [getting started guide](https://docs.scipy.org/doc/scipy/getting_started.html#getting-started-ref) and [API reference](https://docs.scipy.org/doc/scipy/reference/)\n",
    "\n",
    "For the first couple weeks of activities we will be using these libraries mostly to check that our code is correct. Later in the term (week 3) feel free to use the library routines unless it is the direct routine you are implementing (ie. if the assignment is to implement `GMRES` don't use `scipy`'s `GMRES` function).\n",
    "\n",
    "These libraries are widely used and very mature. In the code examples below, I show some basic usage of the utilities provided but I have hardly scratched the surface. Reading the docs, guides/tutorials, and other developer's code on github are great ways to learn new tricks.\n",
    "\n",
    "## Visualization\n",
    "\n",
    "Data visualization is an important part of data exploration and analysis and will be a small part of this course. We will mostly use `matplotlib` for simple plotting but I will provide some `plotly` code when we would like to have an interactive 3d plot. For one of the homework and the final project you are asked to plot something similar to what is shown in the examples."
   ],
   "metadata": {
    "id": "RsPbbf2tURdH",
    "pycharm": {
     "name": "#%% md\n"
    }
   }
  },
  {
   "cell_type": "markdown",
   "source": [
    "## Loading data into `colab`\n",
    "\n",
    "One of the first things we will need to do is load data into our code from external files. Matrix data comes in many different forms depending on the source and structure of the matrix.\n",
    "\n",
    "Start by adding the [shared data folder](https://drive.google.com/drive/folders/1b7jMz1UZ9L5FZPvN_ZG5Hw96bHRCzkht?usp=sharing) to your google drive:\n",
    "\n",
    "If you don't want to connect Colab to your drive you can upload the files directly into the colab runtime each session. Be careful you trust a notebook before connecting it to your drive, you can read through the code here and see I'm not deleting or downloading your entire Drive."
   ],
   "metadata": {
    "collapsed": false
   }
  },
  {
   "cell_type": "code",
   "execution_count": 2,
   "metadata": {
    "id": "su8PzK8cqJZA"
   },
   "outputs": [],
   "source": [
    "#from google.colab import drive\n",
    "\n",
    "#drive.mount('/content/drive')\n",
    "# NOTE: change this to the folder in your drive with the data\n",
    "folder = 'mth343/matrices'"
   ]
  },
  {
   "cell_type": "markdown",
   "source": [
    "Once the folder is loaded we can use `scipy` to load matrix market format files. This format is used to store sparse and dense matrices, `scipy` will return the type of object encoded in the file."
   ],
   "metadata": {
    "id": "4cWXIWbnMydx"
   }
  },
  {
   "cell_type": "code",
   "source": [
    "from scipy.io import mmread\n",
    "\n",
    "# here I use a format string or f-string denoted by the f'<string>{<eval>}'\n",
    "matrix = mmread(f'{folder}/bcsstk02.mtx')\n",
    "type(matrix)"
   ],
   "metadata": {
    "id": "one0Lr5IMYXj"
   },
   "execution_count": 3,
   "outputs": [
    {
     "data": {
      "text/plain": "scipy.sparse._coo.coo_matrix"
     },
     "execution_count": 3,
     "metadata": {},
     "output_type": "execute_result"
    }
   ]
  },
  {
   "cell_type": "markdown",
   "source": [
    "Here we can see that `scipy` loaded a sparse matrix in `coo` format, more about that later.\n",
    "\n",
    "Another common practice for serializing and deserializing python objects is using the `pickle` module. `numpy` uses `pickle` in its built in save and load functions."
   ],
   "metadata": {
    "id": "uDdpmBvQNpqg"
   }
  },
  {
   "cell_type": "code",
   "execution_count": 4,
   "outputs": [
    {
     "data": {
      "text/plain": "<66x66 sparse matrix of type '<class 'numpy.float64'>'\n\twith 4356 stored elements in COOrdinate format>"
     },
     "execution_count": 4,
     "metadata": {},
     "output_type": "execute_result"
    }
   ],
   "source": [
    "matrix"
   ],
   "metadata": {
    "collapsed": false,
    "pycharm": {
     "name": "#%%\n"
    }
   }
  },
  {
   "cell_type": "code",
   "source": [
    "import numpy as np\n",
    "\n",
    "matrix = np.load(f'{folder}/100_orthonormal.npy')\n",
    "type(matrix)"
   ],
   "metadata": {
    "id": "A-yJpXaSPGEV"
   },
   "execution_count": 5,
   "outputs": [
    {
     "data": {
      "text/plain": "numpy.ndarray"
     },
     "execution_count": 5,
     "metadata": {},
     "output_type": "execute_result"
    }
   ]
  },
  {
   "cell_type": "markdown",
   "source": [
    "## Matrix and Vector generation"
   ],
   "metadata": {
    "id": "ki58RQoqHNrg"
   }
  },
  {
   "cell_type": "code",
   "source": [
    "# we can also generate random matrices with numpy\n",
    "matrix = np.random.rand(5, 5)\n",
    "print(matrix)\n",
    "print(f'The shape of the matrix is: {matrix.shape}\\n')\n",
    "\n",
    "# take note of how these three are subtly different,\n",
    "# both will behave in very different ways.\n",
    "# we will explore reshaping in the next section\n",
    "vector1 = np.random.rand(5, 1)     # column vector\n",
    "vector2 = np.random.rand(5)        # 'true' vector\n",
    "vector3 = np.random.rand(1, 5)     # row vector\n",
    "print(vector1)\n",
    "print(f'The shape of the vector1 is: {vector1.shape} with {vector1.ndim} dimension \\n')\n",
    "print(vector2)\n",
    "print(f'The shape of the vector2 is: {vector2.shape} with {vector2.ndim} dimension \\n')\n",
    "print(vector3)\n",
    "print(f'The shape of the vector3 is: {vector3.shape} with {vector3.ndim} dimension \\n')\n",
    "\n",
    "# other useful generation functions:\n",
    "ones = np.ones((2, 2))\n",
    "print(ones)\n",
    "print('ones\\n')\n",
    "zeros = np.zeros((4,3))\n",
    "print(zeros)\n",
    "print('zeros\\n')\n",
    "sequence = np.arange(12)\n",
    "print(sequence)\n",
    "print('sequence\\n')\n",
    "eye = np.eye(5)\n",
    "print(eye)\n",
    "print('eye\\n')"
   ],
   "metadata": {
    "id": "qSD2CrUeULYy"
   },
   "execution_count": 6,
   "outputs": [
    {
     "name": "stdout",
     "output_type": "stream",
     "text": [
      "[[0.50218631 0.50481725 0.77047906 0.36088503 0.05535042]\n",
      " [0.75527925 0.36212529 0.09996319 0.44729135 0.97585113]\n",
      " [0.49495542 0.45487623 0.05206777 0.21001482 0.84244775]\n",
      " [0.26885082 0.74400012 0.81047535 0.55691905 0.96835902]\n",
      " [0.53336797 0.57054507 0.35178103 0.81684016 0.73143649]]\n",
      "The shape of the matrix is: (5, 5)\n",
      "\n",
      "[[0.55667594]\n",
      " [0.29510996]\n",
      " [0.57342543]\n",
      " [0.88841237]\n",
      " [0.12609373]]\n",
      "The shape of the vector1 is: (5, 1) with 2 dimension \n",
      "\n",
      "[0.4900002  0.29641886 0.26435774 0.60555809 0.31213058]\n",
      "The shape of the vector2 is: (5,) with 1 dimension \n",
      "\n",
      "[[0.70031488 0.93029101 0.03332606 0.4730105  0.71582954]]\n",
      "The shape of the vector3 is: (1, 5) with 2 dimension \n",
      "\n",
      "[[1. 1.]\n",
      " [1. 1.]]\n",
      "ones\n",
      "\n",
      "[[0. 0. 0.]\n",
      " [0. 0. 0.]\n",
      " [0. 0. 0.]\n",
      " [0. 0. 0.]]\n",
      "zeros\n",
      "\n",
      "[ 0  1  2  3  4  5  6  7  8  9 10 11]\n",
      "sequence\n",
      "\n",
      "[[1. 0. 0. 0. 0.]\n",
      " [0. 1. 0. 0. 0.]\n",
      " [0. 0. 1. 0. 0.]\n",
      " [0. 0. 0. 1. 0.]\n",
      " [0. 0. 0. 0. 1.]]\n",
      "eye\n",
      "\n"
     ]
    }
   ]
  },
  {
   "cell_type": "code",
   "execution_count": 7,
   "outputs": [
    {
     "name": "stdout",
     "output_type": "stream",
     "text": [
      "original:\n",
      "[[0.29815198 0.61578638 0.60046751]\n",
      " [0.81710763 0.1547229  0.68448533]\n",
      " [0.27586041 0.75401209 0.15099839]]\n",
      "option 1:\n",
      "[[0.29815198 0.81710763 0.27586041]\n",
      " [0.61578638 0.1547229  0.75401209]\n",
      " [0.60046751 0.68448533 0.15099839]]\n",
      "option 2:\n",
      "[[0.29815198 0.81710763 0.27586041]\n",
      " [0.61578638 0.1547229  0.75401209]\n",
      " [0.60046751 0.68448533 0.15099839]]\n",
      "option 3:\n",
      "[[0.29815198 0.81710763 0.27586041]\n",
      " [0.61578638 0.1547229  0.75401209]\n",
      " [0.60046751 0.68448533 0.15099839]]\n",
      "\n",
      "should be zeros:\n",
      "[0. 0. 0.]\n",
      "[[0.74471907 0.74471907]\n",
      " [0.4855588  0.4855588 ]\n",
      " [0.6024968  0.6024968 ]]\n",
      "The shape of concat is: (3, 2)\n",
      "\n",
      "[[0.74471907 0.4855588  0.6024968 ]\n",
      " [0.74471907 0.4855588  0.6024968 ]]\n",
      "The shape of stack is: (2, 3)\n",
      "\n",
      "[[0.74471907 0.74471907]\n",
      " [0.4855588  0.4855588 ]\n",
      " [0.6024968  0.6024968 ]]\n",
      "The shape of stack with axis=-1 is: (3, 2)\n",
      "\n",
      "squared product:\n",
      "[0.5546065  0.23576735 0.36300239]\n"
     ]
    }
   ],
   "source": [
    "matrix = np.random.rand(3, 3)\n",
    "vector = np.random.rand(3)\n",
    "\n",
    "# transpose a matrix three ways\n",
    "print('original:')\n",
    "print(matrix)\n",
    "print('option 1:')\n",
    "print(matrix.T)\n",
    "print('option 2:')\n",
    "print(np.transpose(matrix))\n",
    "print('option 3:')\n",
    "print(matrix.transpose())\n",
    "\n",
    "# we can take the product of two numpy arrays in two ways\n",
    "product_1 = matrix @ vector #this is dot product\n",
    "product_2 = matrix.dot(vector)\n",
    "zeros = product_1 - product_2\n",
    "print('\\nshould be zeros:')\n",
    "print(zeros)\n",
    "\n",
    "# reshape and concat the two equivelent results\n",
    "concat = np.concatenate((product_1.reshape((3,1)), product_2.reshape((3,1))), axis=1)\n",
    "print(concat)\n",
    "print(f'The shape of concat is: {concat.shape}\\n')\n",
    "# instead of reshape then concat we could use `stack`\n",
    "stack = np.stack([product_1, product_2])\n",
    "print(stack)\n",
    "print(f'The shape of stack is: {stack.shape}\\n')\n",
    "stack = np.stack([product_1, product_2], axis=-1) #this is the\n",
    "print(stack)\n",
    "print(f'The shape of stack with axis=-1 is: {stack.shape}\\n')\n",
    "\n",
    "# notice that the * operator is not matrix multiplication...\n",
    "# if the shapes of the left and right side are the same,\n",
    "# then * does a strictly element-wise multiplicaton\n",
    "product = product_1 * product_2\n",
    "print('squared product:')\n",
    "print(product)"
   ],
   "metadata": {
    "collapsed": false,
    "pycharm": {
     "name": "#%%\n"
    }
   }
  },
  {
   "cell_type": "markdown",
   "source": [
    "### A note about shapes and broadcasting\n",
    "\n",
    "If the shapes don't match like in the block below, [(3,3) * (3,)], `numpy` recognizes that the first dimension matches and broadcasts the product across the other dimensions.\n",
    "\n",
    "This is extremely powerful but is also the cause of many headaches for new users\n",
    "of numpy. Often the code runs and does something different because of the \n",
    "implicit broadcast, where you would have wanted it to crash for a dimension\n",
    "mismatch. Checking the dimensions of your arrays is a solid first step to debugging your `numpy` codes."
   ],
   "metadata": {
    "id": "klZ3IJj7RV7q"
   }
  },
  {
   "cell_type": "code",
   "source": [
    "broadcast = matrix * vector\n",
    "print('Broadcasted elementwise multiplication:')\n",
    "print(broadcast)"
   ],
   "metadata": {
    "id": "uGGCpoHVRYSz"
   },
   "execution_count": 8,
   "outputs": [
    {
     "name": "stdout",
     "output_type": "stream",
     "text": [
      "Broadcasted elementwise multiplication:\n",
      "[[0.00716118 0.42178609 0.3157718 ]\n",
      " [0.01962574 0.10597826 0.3599548 ]\n",
      " [0.00662577 0.51646452 0.07940652]]\n"
     ]
    }
   ]
  },
  {
   "cell_type": "markdown",
   "source": [
    "## Slicing and Indexing\n",
    "\n",
    "One of the most common manipulations on `numpy` arrays is slicing. Slicing allows you to access a portion of the array."
   ],
   "metadata": {
    "id": "R_37sCNMZFhc"
   }
  },
  {
   "cell_type": "code",
   "source": [
    "matrix = np.random.rand(3, 3)\n",
    "print('original matrix:')\n",
    "print(matrix)\n",
    "print()\n",
    "\n",
    "print('the first column:')\n",
    "print(matrix[:,1])\n",
    "\n",
    "print('\\nthe first two rows:')\n",
    "print(matrix[:2, :])\n",
    "\n",
    "print(f'\\nthe element in the bottom right corner: {matrix[-1,-1]}')\n",
    "print(f'\\nthe middle element: {matrix[1,1]}')"
   ],
   "metadata": {
    "id": "pFyQHnZEZSVl"
   },
   "execution_count": 9,
   "outputs": [
    {
     "name": "stdout",
     "output_type": "stream",
     "text": [
      "original matrix:\n",
      "[[0.96521856 0.0839463  0.49947451]\n",
      " [0.19622373 0.59401541 0.68889894]\n",
      " [0.86996142 0.95116483 0.86333885]]\n",
      "\n",
      "the first column:\n",
      "[0.0839463  0.59401541 0.95116483]\n",
      "\n",
      "the first two rows:\n",
      "[[0.96521856 0.0839463  0.49947451]\n",
      " [0.19622373 0.59401541 0.68889894]]\n",
      "\n",
      "the element in the bottom right corner: 0.8633388509567754\n",
      "\n",
      "the middle element: 0.5940154069692356\n"
     ]
    }
   ]
  },
  {
   "cell_type": "markdown",
   "source": [
    "## Filtering, Sorting, and Permuting Arrays\n",
    "\n",
    "Throughout this notebook you will be required to filter a `numpy` array based on some condition. The beginner way to do this would be to loop through the elements and copy the ones that satisfy the predicate into a new array.\n",
    "\n",
    "There is a simpler way to filter by indexing an array with another array."
   ],
   "metadata": {
    "id": "ky1S5-HeeYbD"
   }
  },
  {
   "cell_type": "code",
   "source": [
    "vector = np.arange(5)\n",
    "print(vector)\n",
    "\n",
    "# create mask array with booleans from condition\n",
    "filter_evens = vector % 2 == 0\n",
    "print('evens mask:')\n",
    "print(filter_evens)\n",
    "filter_small = vector < 3\n",
    "print('\\nless than 3 mask:')\n",
    "print(filter_small)\n",
    "\n",
    "# filter the original array with the mask\n",
    "evens = vector[filter_evens]\n",
    "print('\\nevens:')\n",
    "print(evens)\n",
    "small = vector[filter_small]\n",
    "print('\\nless than 3:')\n",
    "print(small)\n",
    "\n",
    "# this technique can be used to permute and select certain indices as well\n",
    "select = np.array([1, 3, 4])\n",
    "permute = np.array([3, 2, 4, 1, 0])\n",
    "\n",
    "print(vector)\n",
    "print('\\nselect some:')\n",
    "print(vector[select])\n",
    "# select is going to give back a vector of the i'th elements of vector for i in select\n",
    "print('\\npermuted:')\n",
    "print(vector[permute])\n",
    "# any vector v with brackets and another vector u inside will give the elements of v in the order specified by u.\n",
    "# in other words, u is a vector of indices of v\n",
    "\n",
    "# can use in higher dimensions also\n",
    "mat = np.random.rand(4, 4)\n",
    "column_swap = np.array([2, 1, 0, 3])\n",
    "print('\\noriginal:')\n",
    "print(mat)\n",
    "print('\\nwith swapped columns:')\n",
    "print(mat[:,column_swap])\n",
    "# swap columns with the range selected as [:, swapordervector]\n",
    "\n",
    "# simple sorting is easy\n",
    "vector = np.random.rand(6)\n",
    "sorted = np.sort(vector)\n",
    "print('\\noriginal:')\n",
    "print(vector)\n",
    "print('\\nsorted:')\n",
    "print(sorted)"
   ],
   "metadata": {
    "id": "w9dGwsk7lOF0"
   },
   "execution_count": 10,
   "outputs": [
    {
     "name": "stdout",
     "output_type": "stream",
     "text": [
      "[0 1 2 3 4]\n",
      "evens mask:\n",
      "[ True False  True False  True]\n",
      "\n",
      "less than 3 mask:\n",
      "[ True  True  True False False]\n",
      "\n",
      "evens:\n",
      "[0 2 4]\n",
      "\n",
      "less than 3:\n",
      "[0 1 2]\n",
      "[0 1 2 3 4]\n",
      "\n",
      "select some:\n",
      "[1 3 4]\n",
      "\n",
      "permuted:\n",
      "[3 2 4 1 0]\n",
      "\n",
      "original:\n",
      "[[0.123354   0.3560754  0.66805957 0.07899386]\n",
      " [0.84401653 0.38560941 0.60823186 0.74454602]\n",
      " [0.60998089 0.45183432 0.15234236 0.05275899]\n",
      " [0.22411086 0.27618336 0.86664411 0.74149345]]\n",
      "\n",
      "with swapped columns:\n",
      "[[0.66805957 0.3560754  0.123354   0.07899386]\n",
      " [0.60823186 0.38560941 0.84401653 0.74454602]\n",
      " [0.15234236 0.45183432 0.60998089 0.05275899]\n",
      " [0.86664411 0.27618336 0.22411086 0.74149345]]\n",
      "\n",
      "original:\n",
      "[0.30863246 0.86917049 0.98880527 0.06484621 0.84115176 0.52269836]\n",
      "\n",
      "sorted:\n",
      "[0.06484621 0.30863246 0.52269836 0.84115176 0.86917049 0.98880527]\n"
     ]
    }
   ]
  },
  {
   "cell_type": "markdown",
   "source": [
    "## Iterators\n",
    "\n",
    "Often times you want to iterate over an array. Two common patterns are using an index variable and using iterators. I suggest using iterators when you can because they are less error prone and more idiomatic python."
   ],
   "metadata": {
    "id": "QphQ2sGwbGRx"
   }
  },
  {
   "cell_type": "code",
   "source": [
    "vector = np.arange(5)\n",
    "print('starting data:')\n",
    "print(vector)\n",
    "print()\n",
    "\n",
    "# using an iterator\n",
    "for element in vector:\n",
    "  element **= 2\n",
    "  print(element)\n",
    "\n",
    "print('notice this didnt mutate our vector: ')\n",
    "print(vector)\n",
    "print()\n",
    "\n",
    "# you decide which is better...\n",
    "for i in range(len(vector)):\n",
    "  vector[i] **= 2\n",
    "  print(vector[i])\n",
    "\n",
    "print('but this one did mutate it: ')\n",
    "print(vector)\n",
    "print('This is because python avoids mutation through iterators for optimization')"
   ],
   "metadata": {
    "id": "xWrp2QXmbZLD"
   },
   "execution_count": null,
   "outputs": []
  },
  {
   "cell_type": "markdown",
   "source": [
    "## Exercise 1\n",
    "\n",
    "For the first section of in class exercises to prepare you for the first homework, do the following:\n",
    "\n",
    "### Level 1\n",
    "*   Create a numpy vector with the row sums of $A$\n",
    "*   Create a numpy vector with the column sums of $A$\n",
    "*   Find the average of the elements of $A$\n",
    "\n",
    "### Level 2\n",
    "*   Calculate $A^{10000} v$ using a loop. Think about the most efficient way to do this...\n",
    "*   Calculate $A  A^T$. Check with a loop if the matrix is symmetric\n",
    "*   Calculate $||v||_{l_2}$ by hand. Check if it is correct with `np.linalg.norm(v)`\n",
    "\n",
    "### Level 3\n",
    "*   Calculate $Av$ by hand and check it is correct with `A @ v` or `A.dot(v)`\n",
    "*   Calculate $vv^T$ by hand and check if it is correct with `v @ v.T`\n",
    "*   Using the result from the previous step, calculate $A - vv^T$ and check with `A - v @ v.T`"
   ],
   "metadata": {
    "id": "gzhrxgCAfaiK"
   }
  },
  {
   "cell_type": "code",
   "source": [
    "import numpy as np\n",
    "\n",
    "#A = np.random.rand(10, 10)\n",
    "#v = np.random.rand(10, 1)\n",
    "#for random ints instead,\n",
    "A = np.random.randint(low=0, high =100, size=[10,10])\n",
    "v = np.random.randint(low=0, high = 100, size=10)\n",
    "print(\"A = \" ,A)\n",
    "print(\"v = \", v)\n",
    "################\n",
    "#    Level 1   #\n",
    "################\n",
    "# sum all elements of each row and put the n results in an array\n",
    "row_sums = np.array(sum(A[i] for i in range(A.shape[0])))\n",
    "print(\"row sums = \", row_sums)\n",
    "# sum all elements of each column and put the n results in an array\n",
    "col_sums = np.array(sum(A[:,i]) for i in range(A.shape[1]))\n",
    "print(\"column sums = \", row_sums)\n",
    "\n",
    "\n",
    "reduced = row_sums * 1/row_sums.shape[0]\n",
    "average = sum(reduced)\n",
    "print(\"average = \", average)\n",
    "\n",
    "\n",
    "'''\n",
    "questions:\n",
    "1. is this ok, combining numpy arrays with list comprehensions? Is it efficient? can I test that somehow?\n",
    "2. I started my own linear algebra library of sorts already. can I use that and keep adding to it for the class stuff?\n",
    "'''\n",
    "\n",
    "################\n",
    "#    Level 2   #\n",
    "################\n",
    "\n",
    "# A^10000 v..\n",
    "def matrixToPower(A, pow):\n",
    "  # since matrix multiplication is associative, A^p can be divided into log2(pow) operations.. sort of..\n",
    "  # for instance, 10000 = 2^13.2877 but the 10000 - 2^13 is 2^10.82 so I think it might be useful to make this recursive.\n",
    "  # it will say A @= A log2(pow) times, then send original A into the function again but with pow = pow - 2**log2(pow).\n",
    "  # base case is if pow is 1\n",
    "  if pow == 1: return A\n",
    "\n",
    "  #only problem is that I feel I need to store a copy of A for the recursion. I think this will always be more efficient than\n",
    "  #multiplying A by A pow times though so I will do that.\n",
    "  #oh wait.. maybe I need a wrapper function to store it so I don't copy it every time through\n",
    "  # not sure so for now I will make the copy each time\n",
    "  B = np.copy(A)\n",
    "\n",
    "  log_floor = int(np.floor(np.log2(pow)))\n",
    "  remainder = pow - 2**log_floor\n",
    "  for i in range(log_floor):\n",
    "    B = B @ B\n",
    "  if(remainder == 0): return B\n",
    "  return B @ (matrixToPower(A, remainder))\n",
    "\n",
    "# A = np.array([[1, 2],[3,4]])\n",
    "# print(A)\n",
    "# B = matrixToPower(A,3)\n",
    "# print(B)\n",
    "\n",
    "B = matrixToPower(A, 10000)\n",
    "vresult = A@v\n",
    "print(\"A^10000*v = \" , vresult)\n",
    "#result is giving negatives. I believe this is due to overflow of data types but more likely my algorithm is not 100%\n",
    "\n",
    "\n",
    "#retry this but do A@v and multiply all A's from the right...\n",
    "\n",
    "# calculate AA^T and then check if it is symmetric with a loop\n",
    "Atrans = A@A.T\n",
    "print(\"AA^T = \", Atrans)\n",
    "\n",
    "def checkSymmetry(A):\n",
    "  for i in range(A.shape[0]):\n",
    "    for j in range(i, A.shape[1]):\n",
    "      if A[i, j] != A[j, i]: return False\n",
    "  return True\n",
    "\n",
    "print(\"AA^T is symmetric:\", checkSymmetry(Atrans))\n",
    "\n",
    "norm = np.linalg.norm(v)\n",
    "print(\"norm of v:\", norm)\n",
    "\n",
    "################\n",
    "#    Level 3   #\n",
    "################\n",
    "\n"
   ],
   "metadata": {
    "id": "ERPiry4dfg5m"
   },
   "execution_count": 6,
   "outputs": [
    {
     "name": "stdout",
     "output_type": "stream",
     "text": [
      "[[92 30 88  3 71 14 37 35  6 97]\n",
      " [25 17 35 93 28 18  3 42 71 68]\n",
      " [ 1  6 90  4 13 20 62 69 81  0]\n",
      " [ 2 67 29  0 62 53 36 59 80 97]\n",
      " [53  1 64 21 49 56 50  6  2 97]\n",
      " [41 49 23 79 86 77 95 34 88 72]\n",
      " [92 23 21 34 10 25 31 82 25  0]\n",
      " [59 75 10 30 18 61 10 68 18 55]\n",
      " [99 73 86 85 15 57 43 51 43 17]\n",
      " [58 57 67 50 48 84  0 43 25  9]]\n",
      "[12 33 45 14 48 31 87 93 43 71]\n",
      "[23557 17688 20854 27105 19812 31088 15937 18681 22684 16913]\n",
      "[[34393 17012 14602 23176 26345 26904 16331 18973 26267 20204]\n",
      " [17012 23334 13208 19756 15055 26661 12630 15396 22557 16463]\n",
      " [14602 13208 23888 17663 11336 20743 12491  9753 19620 13926]\n",
      " [23176 19756 17663 32573 19758 32895 12233 20929 21180 18716]\n",
      " [26345 15055 11336 19758 24833 25993 10939 15049 20727 16706]\n",
      " [26904 26661 20743 32895 25993 47286 18786 23745 32835 25568]\n",
      " [16331 12630 12491 12233 10939 18786 19625 16424 23648 16485]\n",
      " [18973 15396  9753 20929 15049 23745 16424 22224 24080 19724]\n",
      " [26267 22557 19620 21180 20727 32835 23648 24080 39813 28844]\n",
      " [20204 16463 13926 18716 16706 25568 16485 19724 28844 25517]]\n",
      "AA^T is symmetric: True\n"
     ]
    }
   ]
  },
  {
   "cell_type": "markdown",
   "source": [
    "## Homework 1\n",
    "\n",
    "For the first homework you will implement $LU$ factorization and use the factorization to solve a two part linear system using the triangular matrices.\n",
    "\n",
    "You will solve for $Ax = \\mathbb{1}$. Once you have $A = LU$ you can solve the problem by doing:\n",
    "*   First find $v$ with lower triangular solve: $Lv = \\mathbb{1}$ \n",
    "*   Then find $x$ with upper triangular solve: $Ux = v$\n",
    "\n",
    "Note: plugging $v = Ux$ into $Lv = \\mathbb{1}$ gives $LUx = \\mathbb{1}$ or $Ax = \\mathbb{1}$.\n",
    "\n",
    "Work with either `100_orthonormal.npy` or `1000_orthonormal.npy`.\n",
    "\n",
    "You can check your work by using `np.solve(A, b)` and finding the norm of the difference with your solution."
   ],
   "metadata": {
    "id": "xK3PLPWokdvf"
   }
  },
  {
   "cell_type": "code",
   "source": [
    "#from google.colab import drive\n",
    "#drive.mount('/content/drive')\n",
    "folder = 'drive/Shareddrives/mth343/matrices'"
   ],
   "metadata": {
    "id": "XYyzgxmeqmOd"
   },
   "execution_count": null,
   "outputs": []
  },
  {
   "cell_type": "code",
   "source": [
    "import numpy as np\n",
    "folder = 'mth343/matrices'\n",
    "\n",
    "A = np.load(f'{folder}/100_orthonormal.npy')\n",
    "b = np.ones(100)\n",
    "\n",
    "#this LU function assumes a lot: rows are in a good order, matrix is non-singular, zeroes aren't produced in spots where we don't want them, etc..\n",
    "def LUfactorization(A,b):\n",
    "  '''\n",
    "  :param A: nxn matrix, nonsingular\n",
    "  :param b: n-vector where Ax=b\n",
    "  :return: L, lower triangular matrix of operations to A;\n",
    "           U, upper triangular matrix of row echelon form of A;\n",
    "           and c, the reduced form of b\n",
    "  '''\n",
    "\n",
    "  m = A.shape[0]\n",
    "  n = A.shape[1]\n",
    "  if m != n: return 0\n",
    "\n",
    "  U = np.copy(A)\n",
    "  L = np.eye(n,n)\n",
    "  c = np.copy(b)\n",
    "\n",
    "  #go through each row\n",
    "  for i in range(1,m):\n",
    "    for j in range(0, i-1):\n",
    "      '''\n",
    "      # if the element I am at is 0, need a row switch\n",
    "      if A[i][j] == 0: #row switch\n",
    "        #scan the row until nonzero element\n",
    "        for k in range(j+1, m):\n",
    "          if A[i][k] !=0:\n",
    "            #commence switch to\n",
    "      '''\n",
    "      if U[i][j] != 0:\n",
    "        # commence reduction based on previous row\n",
    "        scale = U[i][j]/U[j][j]\n",
    "        U[i] = U[i] - scale * U[j]\n",
    "        c[i] = c[i] - scale * c[j]\n",
    "        #add scalar to proper location in L\n",
    "        L[i][j] = scale\n",
    "  return [L,U,c]\n",
    "\n",
    "\n",
    "\n",
    "# LU = A\n",
    "# LUx = Ax = b\n",
    "L, U, c = LUfactorization(A,b)\n",
    "\n",
    "print(L)\n",
    "\n",
    "x = np.linalg.solve(U,c)\n",
    "# Check your work:\n",
    "actual_solution = np.linalg.solve(A, b)\n",
    "print(f'norm of error: {np.linalg.norm(x - actual_solution)}')"
   ],
   "metadata": {
    "id": "nVI8h3h6lkUt"
   },
   "execution_count": 1,
   "outputs": [
    {
     "name": "stdout",
     "output_type": "stream",
     "text": [
      "[[ 1.00000000e+00  0.00000000e+00  0.00000000e+00 ...  0.00000000e+00\n",
      "   0.00000000e+00  0.00000000e+00]\n",
      " [ 0.00000000e+00  1.00000000e+00  0.00000000e+00 ...  0.00000000e+00\n",
      "   0.00000000e+00  0.00000000e+00]\n",
      " [ 1.09518501e-02  0.00000000e+00  1.00000000e+00 ...  0.00000000e+00\n",
      "   0.00000000e+00  0.00000000e+00]\n",
      " ...\n",
      " [ 1.78315161e+00 -2.06916481e+00  3.32347330e+01 ...  1.00000000e+00\n",
      "   0.00000000e+00  0.00000000e+00]\n",
      " [ 2.03270587e+00 -4.75841148e+00  3.82366161e+01 ...  0.00000000e+00\n",
      "   1.00000000e+00  0.00000000e+00]\n",
      " [ 2.20008017e+00 -4.70272548e+00  5.13408656e+01 ... -1.57860677e+00\n",
      "   0.00000000e+00  1.00000000e+00]]\n",
      "norm of error: 7.615875248723926e-13\n"
     ]
    }
   ]
  }
 ]
}