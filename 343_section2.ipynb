{
 "nbformat": 4,
 "nbformat_minor": 0,
 "metadata": {
  "colab": {
   "provenance": [],
   "collapsed_sections": [],
   "toc_visible": true
  },
  "kernelspec": {
   "name": "python3",
   "display_name": "Python 3"
  },
  "language_info": {
   "name": "python"
  }
 },
 "cells": [
  {
   "cell_type": "markdown",
   "source": [
    "# Section 2: Sparse Matrices, Symmetric Matrices, and Relations/Graphs\n",
    "\n",
    "In this section we will investigate matrices with special structure and work with our first matrix applications.\n",
    "\n",
    "In data science and generally matrices can be thought of as a relationship between the columns and the rows. The value in the matrix describes how its column relates to its row. Another math construction for describing relationships is the graph. This makes matrices a powerful representation when working with graph information.\n",
    "\n",
    "Recall that a graph is a collection of vertices (or nodes) and edges between the vertices. Both the vertices and edges can contain metadata. There are many variations on graphs but for our purpose we will stick to a few rules:\n",
    "*   Edges must connect two different vertices or create a loop on a single vertex\n",
    "*   Edges are bidirectional (undirected graph)\n"
   ],
   "metadata": {
    "id": "F2MPR4eoTyhy"
   }
  },
  {
   "cell_type": "markdown",
   "source": [
    "## Graph Example\n",
    "\n",
    "We could create a graph of students at the PSU representing the relationship of having a class together. Students are the vertices. Edges show if two students are in the same class.\n",
    "\n",
    "We could add even more information to the edges, like the number of classes the students together. Each student would have a self loop edge with the number of classes they are enrolled in.\n",
    "\n",
    "This example generates a *symmetric* relationship. Justify to yourself why."
   ],
   "metadata": {
    "id": "4ZQ9RFJcYcpK"
   }
  },
  {
   "cell_type": "markdown",
   "source": [
    "## Matrix Representation\n",
    "\n",
    "Let's see if we can convert this relationship to a matrix. Below I have made a small dataset with students to work with.\n",
    "\n",
    "If you aren't familiar with python, this is a `dict` (dictionary). A `dict` is a key-value store that allows you to look up values when providing a key. Here the keys are `string`s of students names and the values are `int`s (class IDs). A `dict` cannot have duplicate keys and will overwrite data with multiple assignments."
   ],
   "metadata": {
    "id": "tuY3cY8NZB5N"
   }
  },
  {
   "cell_type": "code",
   "source": [
    "import numpy as np\n",
    "\n",
    "# one end goal is going to be making a relationship matrix of students to classes which will show which classes\n",
    "# any students are taking together\n",
    "\n",
    "# student paired with class ID of their courses\n",
    "data = {\n",
    "    'alice': [0, 1, 6],\n",
    "    'bob': [2, 7],\n",
    "    'jack': [2, 4, 5, 1],\n",
    "    'suzie': [0, 5, 2],\n",
    "    'chad': [1, 3],\n",
    "    'karen': [3, 6]\n",
    "}"
   ],
   "metadata": {
    "id": "mJJHT4ZyZiDu"
   },
   "execution_count": 2,
   "outputs": []
  },
  {
   "cell_type": "markdown",
   "source": [
    "We stated that matrices are relations. I can think of a few different relationships from this dataset but let's start with the simplest, student-class. Let's figure out the dimension of this matrix and give the students an enumerated ID."
   ],
   "metadata": {
    "id": "ybPRzAlHbeO4"
   }
  },
  {
   "cell_type": "code",
   "source": [
    "# empty dictionary\n",
    "student_ids = dict()\n",
    "\n",
    "id_counter = 0\n",
    "\n",
    "#empty set\n",
    "class_ids_set = set()\n",
    "\n",
    "for student, class_list in data.items():\n",
    "    if student not in student_ids:\n",
    "        student_ids[student] = id_counter\n",
    "        id_counter += 1\n",
    "    # using a `dict` with only keys and no values makes it a `set`\n",
    "    class_ids_set.update(class_list)\n",
    "    print(class_ids_set)\n",
    "\n",
    "print(f'student count: {id_counter}')\n",
    "print('student IDs:')\n",
    "print(student_ids)\n",
    "print('class IDs:')\n",
    "print(class_ids_set)\n",
    "class_count = len(class_ids_set)\n",
    "print(f'class count: {class_count}')\n",
    "\n",
    "\"\"\"\n",
    "we had a dict with student names paired with the list of course id's they are taking\n",
    "then we made a set of all the possible class ids and a dict of all the students with their id number\n",
    "\"\"\""
   ],
   "metadata": {
    "id": "8iE-r_K1cK1O"
   },
   "execution_count": 3,
   "outputs": [
    {
     "name": "stdout",
     "output_type": "stream",
     "text": [
      "{0, 1, 6}\n",
      "{0, 1, 2, 6, 7}\n",
      "{0, 1, 2, 4, 5, 6, 7}\n",
      "{0, 1, 2, 4, 5, 6, 7}\n",
      "{0, 1, 2, 3, 4, 5, 6, 7}\n",
      "{0, 1, 2, 3, 4, 5, 6, 7}\n",
      "student count: 6\n",
      "student IDs:\n",
      "{'alice': 0, 'bob': 1, 'jack': 2, 'suzie': 3, 'chad': 4, 'karen': 5}\n",
      "class IDs:\n",
      "{0, 1, 2, 3, 4, 5, 6, 7}\n",
      "class count: 8\n"
     ]
    },
    {
     "data": {
      "text/plain": "\"\\nwe had a dict with student names paired with the list of course id's they are taking\\nthen we made a set of all the possible class ids and a dict of all the students with their id number\\n\""
     },
     "execution_count": 3,
     "metadata": {},
     "output_type": "execute_result"
    }
   ]
  },
  {
   "cell_type": "markdown",
   "source": [
    "We find that our data has 6 students and 8 unique classes.\n",
    "\n",
    "That means our resulting student to class relationship matrix has dimension of (6, 8)."
   ],
   "metadata": {
    "id": "eZHpgGOlf8ke"
   }
  },
  {
   "cell_type": "markdown",
   "source": [
    "## Exercise 2.1\n",
    "\n",
    "Implement the function below that creates this matrix from the student-class data, student IDs, and shape.\n",
    "\n",
    "Add the data 1.0 into the matrix below where appropriate."
   ],
   "metadata": {
    "id": "AVfQfarIglZn"
   }
  },
  {
   "cell_type": "code",
   "source": [
    "# ideas for storing matrices:\n",
    "# store each item as a list of triplets [row, col, number]\n",
    "# that is coo form\n",
    "# issue is that there are still a lot of repeated things eg. all elements present in row i will store an i\n",
    "\n",
    "def student_class_matrix(data: dict, student_ids: dict, shape: tuple) -> np.array:\n",
    "    matrix = np.zeros(shape)\n",
    "    #for given example, it will be 6x8\n",
    "    for name in data.keys():\n",
    "        for class_ID in data[name]:\n",
    "            matrix[student_ids[name]][class_ID] = 1\n",
    "\n",
    "    return matrix\n",
    "\n",
    "\n",
    "A = student_class_matrix(data, student_ids, (id_counter, class_count))\n",
    "A"
   ],
   "metadata": {
    "id": "Qhs_ThFWgimI",
    "pycharm": {
     "name": "#%%\n"
    }
   },
   "execution_count": 4,
   "outputs": [
    {
     "data": {
      "text/plain": "array([[1., 1., 0., 0., 0., 0., 1., 0.],\n       [0., 0., 1., 0., 0., 0., 0., 1.],\n       [0., 1., 1., 0., 1., 1., 0., 0.],\n       [1., 0., 1., 0., 0., 1., 0., 0.],\n       [0., 1., 0., 1., 0., 0., 0., 0.],\n       [0., 0., 0., 1., 0., 0., 1., 0.]])"
     },
     "execution_count": 4,
     "metadata": {},
     "output_type": "execute_result"
    }
   ]
  },
  {
   "cell_type": "markdown",
   "source": [
    "Now that we have the matrix form of the student-class relationship, let's see what happens when we take $AA^T$ or $A^TA$."
   ],
   "metadata": {
    "id": "L7Y529GPiPHQ"
   }
  },
  {
   "cell_type": "code",
   "source": [
    "A @ A.T"
   ],
   "metadata": {
    "id": "tsdlR5N1jHIt"
   },
   "execution_count": 5,
   "outputs": [
    {
     "data": {
      "text/plain": "array([[3., 0., 1., 1., 1., 1.],\n       [0., 2., 1., 1., 0., 0.],\n       [1., 1., 4., 2., 1., 0.],\n       [1., 1., 2., 3., 0., 0.],\n       [1., 0., 1., 0., 2., 1.],\n       [1., 0., 0., 0., 1., 2.]])"
     },
     "execution_count": 5,
     "metadata": {},
     "output_type": "execute_result"
    }
   ]
  },
  {
   "cell_type": "code",
   "source": [
    "A.T @ A"
   ],
   "metadata": {
    "id": "dINUlk5OjKnh"
   },
   "execution_count": 6,
   "outputs": [
    {
     "data": {
      "text/plain": "array([[2., 1., 1., 0., 0., 1., 1., 0.],\n       [1., 3., 1., 1., 1., 1., 1., 0.],\n       [1., 1., 3., 0., 1., 2., 0., 1.],\n       [0., 1., 0., 2., 0., 0., 1., 0.],\n       [0., 1., 1., 0., 1., 1., 0., 0.],\n       [1., 1., 2., 0., 1., 2., 0., 0.],\n       [1., 1., 0., 1., 0., 0., 2., 0.],\n       [0., 0., 1., 0., 0., 0., 0., 1.]])"
     },
     "execution_count": 6,
     "metadata": {},
     "output_type": "execute_result"
    }
   ]
  },
  {
   "cell_type": "markdown",
   "source": [
    "## Exercise 2.2\n",
    "\n",
    "Use this text box to describe in a few sentences the relationship these matrices describe. \n",
    "\n",
    "Hint 1: notice the dimension of the resulting matrices.\n",
    "\n",
    "Hint 2: both of these matrices are *adjacency* matrices as discussed in lecture.\n",
    "\n",
    "### Response here:\n",
    "\n",
    "A*A^T is the adjacency matrix of students to students and the number for any pairing is how many courses the two students have together\n",
    "A^T*A is the adjacency matrix of classes and the number for any pairing is the number of students they have in common"
   ],
   "metadata": {
    "id": "GfQVPNA7jOCu"
   }
  },
  {
   "cell_type": "markdown",
   "source": [
    "## Sparsity\n",
    "\n",
    "The three relationship matrices we just generated have a lot of zeros in them. When working with larger sparse datasets, these zeros can be left out to save on memory and algorithm complexity. The three main formats for storing sparse matrices are:\n",
    "*   `coo` --- coordinate or triplet form\n",
    "*   `csr` --- compressed sparse row\n",
    "*   `csc` --- compressed sparse column\n",
    "\n",
    "but there are also others. Check out the list of [sparse matrix classes](https://docs.scipy.org/doc/scipy/reference/sparse.html) provided by `scipy`.\n",
    "\n",
    "In lecture, you have talked about the formal description of the three main formats. Note that `scipy`'s specification is slightly different than what you learned in class! At the [bottom of the usage page](https://docs.scipy.org/doc/scipy/reference/sparse.html#further-details) we see:\n",
    "> CSR column indices are not necessarily sorted. Likewise for CSC row indices. Use the .sorted_indices() and .sort_indices() methods when sorted indices are required\n",
    "\n",
    "Keep in mind that not all specifications and implementations are the same and reading the specification is the only solution."
   ],
   "metadata": {
    "id": "5pa7kHVYkJ1K"
   }
  },
  {
   "cell_type": "markdown",
   "source": [
    "## Exercise 2.3\n",
    "\n",
    "Implement the functions below that convert between dense and sparse formats. Use the matrices from the student-student and student-class relations to check your implementation.\n",
    "\n",
    "Hint: in the sparse to dense functions below I extract the dimensions of the matrix from the sparse data structure. Understanding why these dimensions make sense is the first step to this exercise."
   ],
   "metadata": {
    "id": "zTvudKTimuJF"
   }
  },
  {
   "cell_type": "code",
   "source": [
    "def dense_to_coo(dense_mat: np.array) -> dict:\n",
    "    coo = {'rows': [], 'cols': [], 'data': []}\n",
    "    for i in range(np.shape(dense_mat)[0]):\n",
    "        for j in range(np.shape(dense_mat)[1]):\n",
    "            if dense_mat[i][j] != 0:\n",
    "                coo['rows'].append(i)\n",
    "                coo['cols'].append(j)\n",
    "                coo['data'].append(dense_mat[i][j])\n",
    "    return coo\n",
    "\n",
    "\n",
    "def dense_to_csr(dense_mat: np.array) -> dict:\n",
    "    csr = {'cols': [], 'data': [], 'indptr': []}\n",
    "    csr['indptr'].append(0)\n",
    "    for i in range(1, np.shape(dense_mat)[0] + 1):\n",
    "        csr['indptr'].append(0)\n",
    "        csr['indptr'][i] = csr['indptr'][i - 1]\n",
    "        for j in range(np.shape(dense_mat)[1]):\n",
    "            if dense_mat[i - 1][j] != 0:\n",
    "                csr['cols'].append(j)\n",
    "                csr['data'].append(dense_mat[i - 1][j])\n",
    "                csr['indptr'][i] += 1\n",
    "    return csr\n",
    "\n",
    "\n",
    "def coo_to_dense(coo_mat: dict) -> np.array:\n",
    "    num_rows = max(coo_mat['rows']) + 1\n",
    "    num_cols = max(coo_mat['cols']) + 1\n",
    "    dense_mat = np.zeros((num_rows, num_cols))\n",
    "    for i in range(len(coo_mat['rows'])):\n",
    "        dense_mat[coo_mat['rows'][i]][coo_mat['cols'][i]] = coo_mat['data'][i]\n",
    "    return dense_mat\n",
    "\n",
    "\n",
    "def csr_to_dense(csr_mat: dict) -> np.array:\n",
    "    num_rows = len(csr_mat['indptr']) - 1\n",
    "    num_cols = max(csr_mat['cols']) + 1\n",
    "    dense_mat = np.zeros((num_rows, num_cols))\n",
    "    for i in range(1, num_rows + 1):\n",
    "        for j in range(csr_mat['indptr'][i - 1], csr_mat['indptr'][i]):\n",
    "            dense_mat[i - 1][csr_mat['cols'][j]] = csr_mat['data'][j]\n",
    "    return dense_mat"
   ],
   "metadata": {
    "id": "wANPBQKdnKY9"
   },
   "execution_count": 7,
   "outputs": []
  },
  {
   "cell_type": "markdown",
   "source": [
    "### Checking Exercise 2.3\n",
    "\n",
    "Converting from dense to sparse back to dense should have no change."
   ],
   "metadata": {
    "id": "KwsPbmNsqhGh"
   }
  },
  {
   "cell_type": "code",
   "source": [
    "from numpy.linalg import norm"
   ],
   "metadata": {
    "id": "HMp42AR4qupe"
   },
   "execution_count": 8,
   "outputs": []
  },
  {
   "cell_type": "markdown",
   "source": [
    "#### dense -> coo -> dense"
   ],
   "metadata": {
    "id": "qYB-52Sosl9k"
   }
  },
  {
   "cell_type": "code",
   "source": [
    "coo = dense_to_coo(A)\n",
    "reconstruction = coo_to_dense(coo)\n",
    "if norm(A) > 0.0 and norm(A - reconstruction) < 1e-5:\n",
    "    print('Good job!')\n",
    "else:\n",
    "    print('Not quite')\n",
    "print(A)\n",
    "#print(coo)\n",
    "print(reconstruction)\n"
   ],
   "metadata": {
    "id": "4vmcyErssjbS"
   },
   "execution_count": 9,
   "outputs": [
    {
     "name": "stdout",
     "output_type": "stream",
     "text": [
      "Good job!\n",
      "[[1. 1. 0. 0. 0. 0. 1. 0.]\n",
      " [0. 0. 1. 0. 0. 0. 0. 1.]\n",
      " [0. 1. 1. 0. 1. 1. 0. 0.]\n",
      " [1. 0. 1. 0. 0. 1. 0. 0.]\n",
      " [0. 1. 0. 1. 0. 0. 0. 0.]\n",
      " [0. 0. 0. 1. 0. 0. 1. 0.]]\n",
      "[[1. 1. 0. 0. 0. 0. 1. 0.]\n",
      " [0. 0. 1. 0. 0. 0. 0. 1.]\n",
      " [0. 1. 1. 0. 1. 1. 0. 0.]\n",
      " [1. 0. 1. 0. 0. 1. 0. 0.]\n",
      " [0. 1. 0. 1. 0. 0. 0. 0.]\n",
      " [0. 0. 0. 1. 0. 0. 1. 0.]]\n"
     ]
    }
   ]
  },
  {
   "cell_type": "markdown",
   "source": [
    "\n",
    "#### dense -> csr -> dense"
   ],
   "metadata": {
    "id": "kBKE3W_Usq9C"
   }
  },
  {
   "cell_type": "code",
   "source": [
    "csr = dense_to_csr(A)\n",
    "reconstruction = csr_to_dense(csr)\n",
    "if norm(A) > 0.0 and norm(A - reconstruction) < 1e-5:\n",
    "    print('Good job!')\n",
    "else:\n",
    "    print('Not quite')\n",
    "print(A)\n",
    "print(csr)\n",
    "print(reconstruction)"
   ],
   "metadata": {
    "id": "GYohKyswslMS"
   },
   "execution_count": 10,
   "outputs": [
    {
     "name": "stdout",
     "output_type": "stream",
     "text": [
      "Good job!\n",
      "[[1. 1. 0. 0. 0. 0. 1. 0.]\n",
      " [0. 0. 1. 0. 0. 0. 0. 1.]\n",
      " [0. 1. 1. 0. 1. 1. 0. 0.]\n",
      " [1. 0. 1. 0. 0. 1. 0. 0.]\n",
      " [0. 1. 0. 1. 0. 0. 0. 0.]\n",
      " [0. 0. 0. 1. 0. 0. 1. 0.]]\n",
      "{'cols': [0, 1, 6, 2, 7, 1, 2, 4, 5, 0, 2, 5, 1, 3, 3, 6], 'data': [1.0, 1.0, 1.0, 1.0, 1.0, 1.0, 1.0, 1.0, 1.0, 1.0, 1.0, 1.0, 1.0, 1.0, 1.0, 1.0], 'indptr': [0, 3, 5, 9, 12, 14, 16]}\n",
      "[[1. 1. 0. 0. 0. 0. 1. 0.]\n",
      " [0. 0. 1. 0. 0. 0. 0. 1.]\n",
      " [0. 1. 1. 0. 1. 1. 0. 0.]\n",
      " [1. 0. 1. 0. 0. 1. 0. 0.]\n",
      " [0. 1. 0. 1. 0. 0. 0. 0.]\n",
      " [0. 0. 0. 1. 0. 0. 1. 0.]]\n"
     ]
    }
   ]
  },
  {
   "cell_type": "markdown",
   "source": [
    "#### We can also check using `scipy`\n",
    "\n",
    "Here I convert the dense matrix to the sparse object format provided by `scipy` and access the attributes to create the `dict` version that you built in the previous exercise. Make sure the `dicts` produced by your code matches these."
   ],
   "metadata": {
    "id": "ra899_tutFqG"
   }
  },
  {
   "cell_type": "code",
   "source": [
    "from scipy import sparse\n",
    "\n",
    "print('coo:')\n",
    "coo = sparse.coo_matrix(A)\n",
    "coo_dict = {'data': coo.data, 'rows': coo.row, 'cols': coo.col}\n",
    "print(coo_dict)\n",
    "print(coo)\n",
    "\n",
    "print('\\ncsr:')\n",
    "csr = sparse.csr_matrix(A)\n",
    "csr_dict = {'data': csr.data, 'cols': csr.indices, 'indptr': csr.indptr}\n",
    "print(csr_dict)\n",
    "print(csr)"
   ],
   "metadata": {
    "id": "wzQc6SBgtN3H"
   },
   "execution_count": 11,
   "outputs": [
    {
     "name": "stdout",
     "output_type": "stream",
     "text": [
      "coo:\n",
      "{'data': array([1., 1., 1., 1., 1., 1., 1., 1., 1., 1., 1., 1., 1., 1., 1., 1.]), 'rows': array([0, 0, 0, 1, 1, 2, 2, 2, 2, 3, 3, 3, 4, 4, 5, 5], dtype=int32), 'cols': array([0, 1, 6, 2, 7, 1, 2, 4, 5, 0, 2, 5, 1, 3, 3, 6], dtype=int32)}\n",
      "  (0, 0)\t1.0\n",
      "  (0, 1)\t1.0\n",
      "  (0, 6)\t1.0\n",
      "  (1, 2)\t1.0\n",
      "  (1, 7)\t1.0\n",
      "  (2, 1)\t1.0\n",
      "  (2, 2)\t1.0\n",
      "  (2, 4)\t1.0\n",
      "  (2, 5)\t1.0\n",
      "  (3, 0)\t1.0\n",
      "  (3, 2)\t1.0\n",
      "  (3, 5)\t1.0\n",
      "  (4, 1)\t1.0\n",
      "  (4, 3)\t1.0\n",
      "  (5, 3)\t1.0\n",
      "  (5, 6)\t1.0\n",
      "\n",
      "csr:\n",
      "{'data': array([1., 1., 1., 1., 1., 1., 1., 1., 1., 1., 1., 1., 1., 1., 1., 1.]), 'cols': array([0, 1, 6, 2, 7, 1, 2, 4, 5, 0, 2, 5, 1, 3, 3, 6], dtype=int32), 'indptr': array([ 0,  3,  5,  9, 12, 14, 16], dtype=int32)}\n",
      "  (0, 0)\t1.0\n",
      "  (0, 1)\t1.0\n",
      "  (0, 6)\t1.0\n",
      "  (1, 2)\t1.0\n",
      "  (1, 7)\t1.0\n",
      "  (2, 1)\t1.0\n",
      "  (2, 2)\t1.0\n",
      "  (2, 4)\t1.0\n",
      "  (2, 5)\t1.0\n",
      "  (3, 0)\t1.0\n",
      "  (3, 2)\t1.0\n",
      "  (3, 5)\t1.0\n",
      "  (4, 1)\t1.0\n",
      "  (4, 3)\t1.0\n",
      "  (5, 3)\t1.0\n",
      "  (5, 6)\t1.0\n"
     ]
    }
   ]
  },
  {
   "cell_type": "markdown",
   "source": [
    "## Homework 2\n",
    "\n",
    "In Homework 1 you were tasked with decomposing a dense system into $A=LU$ and then solving a system $Ax=b$ for $x$ using this decomposition. With sparse matrices, the $LU$ decomposition is rarely used because it likely destroys the sparsity unless you can use knowledge about the structure to select your pivot points.\n",
    "\n",
    "For this homework, we will load in one of the symmetric matrix martket sparse systems and just throw away the bottom half. The task of solving $Ax=b$ is the same, but never convert $A$ to the dense format. Do all of your work with the `CSR`."
   ],
   "metadata": {
    "id": "KhGSdv8yw32h"
   }
  },
  {
   "cell_type": "code",
   "source": [
    "import numpy as np\n",
    "# from google.colab import drive\n",
    "from scipy.io import mmread\n",
    "from scipy import sparse\n",
    "from scipy.sparse.linalg import spsolve_triangular\n",
    "from numpy.linalg import norm\n",
    "\n",
    "# drive.mount('/content/drive')\n",
    "# NOTE: change this to the folder in your drive with the data\n",
    "folder = 'mth343/matrices'"
   ],
   "metadata": {
    "id": "gWZN5W9awxNs"
   },
   "execution_count": 12,
   "outputs": []
  },
  {
   "cell_type": "code",
   "source": [
    "coo = mmread(f'{folder}/bcsstk02.mtx')\n",
    "csr = sparse.triu(coo, format='csr')\n",
    "b = np.ones(csr.shape[0])"
   ],
   "metadata": {
    "id": "1s2A4KK2y2ye"
   },
   "execution_count": 38,
   "outputs": []
  },
  {
   "cell_type": "code",
   "source": [
    "# A is square\n",
    "# the lower will be completely removed so this function assumes that the input A is an upper triangular matrix\n",
    "# it will also have to assume a full set of pivots\n",
    "def solve(A: sparse.csr, b: np.array) -> np.array:\n",
    "    x = np.zeros(b.shape)\n",
    "    m = A.shape[0]\n",
    "    for i in reversed(range(m)):\n",
    "        #number of column elements in the current row\n",
    "        num_col_elements = A.indptr[i + 1] - A.indptr[i]\n",
    "\n",
    "        r = 0\n",
    "        for col in range(1,num_col_elements):\n",
    "            r -= A.data[A.indptr[i]+col] * x[A.indices[i]+col]\n",
    "        x[i] = (b[i] + r)/A.data[A.indptr[i]]\n",
    "    return x\n",
    "\n",
    "x = solve(csr, b)\n",
    "correct_x = spsolve_triangular(csr, b, lower=False, unit_diagonal=False)\n",
    "'''\n",
    "print(\"size x = \", x.shape)\n",
    "print(\"size correct x = \", correct_x.shape)\n",
    "'''\n",
    "\n",
    "#print(\"difference = \", x-correct_x)\n",
    "#print(\"norm = \", norm(x-correct_x)/norm(correct_x))\n",
    "if np.allclose(x , correct_x):\n",
    "    print('Nice work')\n",
    "else:\n",
    "    print('Maybe next time')"
   ],
   "metadata": {
    "id": "lVLSNgEOy3u7"
   },
   "execution_count": 41,
   "outputs": [
    {
     "name": "stdout",
     "output_type": "stream",
     "text": [
      "Nice work\n"
     ]
    }
   ]
  }
 ]
}